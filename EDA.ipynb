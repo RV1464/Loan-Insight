{
 "cells": [
  {
   "cell_type": "code",
   "execution_count": null,
   "id": "8e501df6-9ec1-4811-bb87-fb86b3ae90f6",
   "metadata": {},
   "outputs": [],
   "source": [
    "import pandas as pd\n",
    "import numpy as np\n",
    "from pandas_profiling import ProfileReport"
   ]
  },
  {
   "cell_type": "code",
   "execution_count": null,
   "id": "c75a817b-1427-4266-87e2-7fd21ea96467",
   "metadata": {},
   "outputs": [],
   "source": [
    "df_train = pd.read_excel(\"train_Data.xlsx\")\n",
    "df_train_B = pd.read_excel(\"train_bureau.xlsx\")"
   ]
  },
  {
   "cell_type": "code",
   "execution_count": null,
   "id": "79fbc6ac-a981-47f4-8bb7-e0f9881c44b2",
   "metadata": {},
   "outputs": [],
   "source": [
    "report_train = ProfileReport(df_train)\n",
    "report_train.to_file(output_file='profile_train.html')"
   ]
  },
  {
   "cell_type": "code",
   "execution_count": null,
   "id": "0324aeb7-b310-4361-bf89-efef297e5738",
   "metadata": {},
   "outputs": [],
   "source": [
    "report_train_B = ProfileReport(df_train_B)\n",
    "report_train_B.to_file(output_file='profile_train_bureau.html')"
   ]
  }
 ],
 "metadata": {
  "kernelspec": {
   "display_name": "Python 3 (ipykernel)",
   "language": "python",
   "name": "python3"
  },
  "language_info": {
   "codemirror_mode": {
    "name": "ipython",
    "version": 3
   },
   "file_extension": ".py",
   "mimetype": "text/x-python",
   "name": "python",
   "nbconvert_exporter": "python",
   "pygments_lexer": "ipython3",
   "version": "3.11.5"
  }
 },
 "nbformat": 4,
 "nbformat_minor": 5
}
